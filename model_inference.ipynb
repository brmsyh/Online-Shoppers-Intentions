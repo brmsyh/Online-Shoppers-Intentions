{
 "cells": [
  {
   "cell_type": "markdown",
   "id": "d06a2d25",
   "metadata": {},
   "source": [
    "---\n",
    "\n",
    "# **MODEL INFERENCE**"
   ]
  },
  {
   "cell_type": "markdown",
   "id": "4215335c",
   "metadata": {},
   "source": [
    "In this section, we load the best saved model and use it to generate predictions on new data. The data for inference must be in its original/raw format (i.e., not preprocessed), since the model’s pipeline already includes all preprocessing steps such as scaling and encoding."
   ]
  },
  {
   "cell_type": "code",
   "execution_count": 4,
   "id": "6658413d",
   "metadata": {},
   "outputs": [],
   "source": [
    "# 1. Import library\n",
    "import pandas as pd\n",
    "import pickle\n",
    "\n",
    "# 2. Load pipeline model\n",
    "with open('best_model_dtc.pkl', 'rb') as file:\n",
    "    loaded_model = pickle.load(file)"
   ]
  },
  {
   "cell_type": "code",
   "execution_count": 5,
   "id": "8b002cd5",
   "metadata": {},
   "outputs": [],
   "source": [
    "# Example of new input data for inference (original/raw format, without manual preprocessing), for instance, a new website visitor session.\n",
    "new_df = pd.DataFrame([{\n",
    "    'administrative': 3,\n",
    "    'administrative__duration': 120.0,\n",
    "    'informational': 0,\n",
    "    'informational__duration': 0.0,\n",
    "    'product_related': 20,\n",
    "    'product_related__duration': 500.0,\n",
    "    'bounce_rates': 0.01,\n",
    "    'exit_rates': 0.05,\n",
    "    'page_values': 0.0,\n",
    "    'special_day': 0.0,\n",
    "    'month': 'Nov',\n",
    "    'operating_systems': 2,\n",
    "    'browser': 2,\n",
    "    'region': 1,\n",
    "    'traffic_type': 3,\n",
    "    'visitor_type': 'Returning_Visitor',\n",
    "    'weekend': True\n",
    "}])"
   ]
  },
  {
   "cell_type": "code",
   "execution_count": 6,
   "id": "809d67b7",
   "metadata": {},
   "outputs": [
    {
     "name": "stdout",
     "output_type": "stream",
     "text": [
      "Prediction (0=No Purchase, 1=Purchase): 0\n",
      "Purchase Probability: 0.3333\n"
     ]
    }
   ],
   "source": [
    "# Use the model pipeline to generate predictions.\n",
    "prediction = loaded_model.predict(new_df)\n",
    "prediction_proba = loaded_model.predict_proba(new_df)\n",
    "\n",
    "# Tampilkan hasil prediksi\n",
    "print(\"Prediction (0=No Purchase, 1=Purchase):\", prediction[0])\n",
    "print(\"Purchase Probability:\", round(prediction_proba[0][1], 4))"
   ]
  },
  {
   "cell_type": "markdown",
   "id": "ce6ca7cc",
   "metadata": {},
   "source": [
    "> **Insight:**\n",
    "The model successfully predicts whether the visitor is likely to make a purchase, providing a probability estimate (0.33) that can guide business actions such as targeted promotions or follow-ups..\n",
    "\n",
    "---"
   ]
  }
 ],
 "metadata": {
  "kernelspec": {
   "display_name": "phase_0",
   "language": "python",
   "name": "python3"
  },
  "language_info": {
   "codemirror_mode": {
    "name": "ipython",
    "version": 3
   },
   "file_extension": ".py",
   "mimetype": "text/x-python",
   "name": "python",
   "nbconvert_exporter": "python",
   "pygments_lexer": "ipython3",
   "version": "3.10.16"
  }
 },
 "nbformat": 4,
 "nbformat_minor": 5
}
