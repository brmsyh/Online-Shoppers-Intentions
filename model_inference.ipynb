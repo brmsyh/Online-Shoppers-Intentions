{
 "cells": [
  {
   "cell_type": "markdown",
   "id": "d06a2d25",
   "metadata": {},
   "source": [
    "---\n",
    "\n",
    "# **MODEL INFERENCE**"
   ]
  },
  {
   "cell_type": "markdown",
   "id": "4215335c",
   "metadata": {},
   "source": [
    "Pada bagian ini, akan dimuat model terbaik yang sudah disimpan dan menggunakannya untuk memprediksi data baru. Data yang digunakan untuk inference harus berada dalam format asli (belum di-preprocessing), karena pipeline dalam model sudah mencakup semua proses preprocessing seperti scaling dan encoding."
   ]
  },
  {
   "cell_type": "code",
   "execution_count": 1,
   "id": "6658413d",
   "metadata": {},
   "outputs": [],
   "source": [
    "# 1. Import library\n",
    "import pandas as pd\n",
    "import pickle\n",
    "\n",
    "# 2. Load model pipeline yang sudah disimpan\n",
    "with open('best_model_dtc.pkl', 'rb') as file:\n",
    "    loaded_model = pickle.load(file)"
   ]
  },
  {
   "cell_type": "code",
   "execution_count": 2,
   "id": "8b002cd5",
   "metadata": {},
   "outputs": [],
   "source": [
    "# Contoh data baru untuk inferensi (format asli, mentah, tanpa preprocessing manual), Misalnya data pengunjung baru website\n",
    "new_df = pd.DataFrame([{\n",
    "    'administrative': 3,\n",
    "    'administrative__duration': 120.0,\n",
    "    'informational': 0,\n",
    "    'informational__duration': 0.0,\n",
    "    'product_related': 20,\n",
    "    'product_related__duration': 500.0,\n",
    "    'bounce_rates': 0.01,\n",
    "    'exit_rates': 0.05,\n",
    "    'page_values': 0.0,\n",
    "    'special_day': 0.0,\n",
    "    'month': 'Nov',\n",
    "    'operating_systems': 2,\n",
    "    'browser': 2,\n",
    "    'region': 1,\n",
    "    'traffic_type': 3,\n",
    "    'visitor_type': 'Returning_Visitor',\n",
    "    'weekend': True\n",
    "}])"
   ]
  },
  {
   "cell_type": "code",
   "execution_count": 3,
   "id": "809d67b7",
   "metadata": {},
   "outputs": [
    {
     "name": "stdout",
     "output_type": "stream",
     "text": [
      "Prediksi (0=Tidak Beli, 1=Beli): 0\n",
      "Probabilitas Pembelian: 0.5\n"
     ]
    }
   ],
   "source": [
    "# Gunakan model pipeline untuk melakukan prediksi\n",
    "prediction = loaded_model.predict(new_df)\n",
    "prediction_proba = loaded_model.predict_proba(new_df)\n",
    "\n",
    "# Tampilkan hasil prediksi\n",
    "print(\"Prediksi (0=Tidak Beli, 1=Beli):\", prediction[0])\n",
    "print(\"Probabilitas Pembelian:\", round(prediction_proba[0][1], 4))"
   ]
  },
  {
   "cell_type": "markdown",
   "id": "ce6ca7cc",
   "metadata": {},
   "source": [
    "> **Insight:**\n",
    "Model berhasil memprediksi apakah pengunjung tersebut kemungkinan besar akan melakukan pembelian atau tidak, dengan estimasi probabilitas (0.5) yang bisa dijadikan dasar pengambilan keputusan bisnis seperti penawaran promosi atau follow-up.\n",
    "\n",
    "---"
   ]
  }
 ],
 "metadata": {
  "kernelspec": {
   "display_name": "phase_0",
   "language": "python",
   "name": "python3"
  },
  "language_info": {
   "codemirror_mode": {
    "name": "ipython",
    "version": 3
   },
   "file_extension": ".py",
   "mimetype": "text/x-python",
   "name": "python",
   "nbconvert_exporter": "python",
   "pygments_lexer": "ipython3",
   "version": "3.10.16"
  }
 },
 "nbformat": 4,
 "nbformat_minor": 5
}
